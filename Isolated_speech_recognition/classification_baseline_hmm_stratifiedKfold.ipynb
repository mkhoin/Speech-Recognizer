{
 "cells": [
  {
   "cell_type": "markdown",
   "metadata": {},
   "source": [
    "# Classification - Baseline (HMM)\n",
    "\n",
    "Author: Tiago F. Tavares - 2016\n",
    "\n",
    "This document contains a demonstration of an audio classification process. It is based on work by George Tzanetakis [1], with adaptations to comprise good practices in MIR and machine learning research [2]. The discussion begins on how to characterize datasets, proceeds to feature calculation, then to classification processes and, last, to the statistical analysis that allows differentiating elements.\n",
    "\n",
    "## Dataset characterization\n",
    "\n",
    "Audio datasets for classification will be specified using the MIREX format. This format involves .wav files (16 bits/sample, unsigned int format) and an ascii index file that relates each audio file to its label, in the format:\n",
    "\n",
    "    file1 [tab] label1\n",
    "    file2 [tab] label2\n",
    "\n",
    "Articles should report the number of samples contained in each class."
   ]
  },
  {
   "cell_type": "code",
   "execution_count": null,
   "metadata": {
    "collapsed": false
   },
   "outputs": [],
   "source": [
    "%matplotlib inline\n",
    "from matplotlib import pyplot as plt\n",
    "import numpy as np\n",
    "import re\n",
    "\n",
    "def dataset_characterization(dataset_file, dataset_dir=\"\"):\n",
    "    dataset = {} # Dictionary index = filename, content = class\n",
    "    with open(dataset_dir + dataset_file) as f:\n",
    "        for line in f:\n",
    "            p = re.split(\" |,|\\t\", line.rstrip('\\n').rstrip('\\r'))\n",
    "            dataset[p[0]] = p[1]\n",
    "    return dataset\n",
    "\n",
    "def dataset_class_histogram(dataset):\n",
    "    histogram = {}\n",
    "    for data in dataset:\n",
    "        if dataset[data] not in histogram:\n",
    "            histogram[dataset[data]] = 1\n",
    "        else:\n",
    "            histogram[dataset[data]] += 1\n",
    "    return histogram\n",
    "\n",
    "dataset_dir = \"./fernando_falas/\"\n",
    "dataset_file = \"labels.txt\"\n",
    "\n",
    "#dataset_dir = \"./dataset_noise_t/noise_50/\"\n",
    "#dataset_file = \"label_noise_50.txt\"\n",
    "\n",
    "#dataset_dir = \"./datasets/gtzan/\"\n",
    "#dataset_file = \"labels.txt\"\n",
    "dataset = dataset_characterization(dataset_file, dataset_dir)\n",
    "print dataset_class_histogram(dataset)"
   ]
  },
  {
   "cell_type": "markdown",
   "metadata": {},
   "source": [
    "## Feature extraction\n",
    "\n",
    "In the feature extraction step audio samples are mapped into a vector space in which dimensions correspond to different features that describe the audio. The main hypothesis behind this system is that perceptually-related sounds are related through spectral low-level features, such that the distance among the vectors that represent the same class is smaller than the distance of vectors representing instances from different classes. Thus, the feature extraction process for each instance is as follows.\n",
    "\n",
    "<!--Thus, audio samples are mapped into a vector space in which the distance between two vectors is small when the corresponding samples sound similar. The acoustic similarity is assumed to be roughly related to low-level features that can be calculated from the sample's spectrogram. Therefore, the feature extraction process for each sample is as follows.-->\n",
    "\n",
    "Initialy, the sample is normalized to zero mean an unit variance, avoiding effects of gain in the processing chain. After that, it is divided into frames of 46.3ms, with an overlap of 50% between subsequent frames. Each frame is multiplied by a Hanning window and has its magnitude spectrum estimated. The magnitude spectra are then used as basis for the calculation of selected features (spectral centroid, spectral roll-off, spectral flatness, spectral flux and 30 mel-frequency cepstral coefficients). The first and second derivatives of each feature are calculated, because they contain information on the audio content variation over time. A sliding window with duration of 40 frames (approximately 1s) is used to estimate the mean and variance of each feature over time. Last, the mean and variance of each mean and variance is calculated. This process estimates a $n$-dimensional vector representation for the audio sample that can be yielded to classification algorithms. The algorithm also calculates the proportion of energy in "
   ]
  },
  {
   "cell_type": "code",
   "execution_count": null,
   "metadata": {
    "collapsed": false
   },
   "outputs": [],
   "source": [
    "import mir3.modules.features as feat\n",
    "import mir3.modules.tool.wav2spectrogram as spec\n",
    "import mir3.modules.features.centroid as cent\n",
    "import mir3.modules.features.rolloff as roll\n",
    "import mir3.modules.features.flatness as flat\n",
    "import mir3.modules.features.flux as flux\n",
    "import mir3.modules.features.mfcc as mfcc\n",
    "import mir3.modules.features.diff as diff\n",
    "import mir3.modules.features.stats as stats\n",
    "reload(stats)\n",
    "import mir3.modules.features.join as join\n",
    "import mir3.modules.tool.to_texture_window as tex\n",
    "\n",
    "\n",
    "\n",
    "def features_gtzan(filename, directory=\"\"):\n",
    "    # Calculate spectrogram (normalizes wavfile)\n",
    "    converter = spec.Wav2Spectrogram()\n",
    "    s = converter.convert(open(directory + filename), window_length=512, dft_length=512,\n",
    "                window_step=256, spectrum_type='magnitude', save_metadata=True, wav_rate=16000)\n",
    "    \n",
    "    # Extract low-level features, derivatives, and run texture windows    \n",
    "    \n",
    "    d = diff.Diff()\n",
    "    #features = (cent.Centroid(), roll.Rolloff(), flat.Flatness(), flux.Flux(), mfcc.Mfcc())\n",
    "    features = (mfcc.Mfcc(),)\n",
    "    all_feats = None\n",
    "    for f in features:\n",
    "        track = f.calc_track(s) # Feature track\n",
    "        all_feats = join.Join().join([all_feats, track])\n",
    "        dtrack = d.calc_track(track) # Differentiate\n",
    "        all_feats = join.Join().join([all_feats, dtrack])\n",
    "        ddtrack = d.calc_track(dtrack) # Differentiate again\n",
    "        all_feats = join.Join().join([all_feats, ddtrack])    \n",
    "\n",
    "        # Texture window\n",
    "    #t = tex.ToTextureWindow().to_texture(all_feats, 40)\n",
    "        \n",
    "    # Statistics\n",
    "    #s = stats.Stats()\n",
    "    #d = s.stats([t], mean=True, variance=True)    \n",
    "    return all_feats"
   ]
  },
  {
   "cell_type": "code",
   "execution_count": null,
   "metadata": {
    "collapsed": false
   },
   "outputs": [],
   "source": [
    "from ipywidgets import FloatProgress\n",
    "from IPython.display import display\n",
    "\n",
    "\n",
    "def low_level_features(dataset_file, dataset_dir=\"\"): # Estimate low-level features. \n",
    "                                                      # Returns sklearn-compatible structures.\n",
    "    d = dataset_characterization(dataset_file, dataset_dir)\n",
    "    labels = []\n",
    "    features = []\n",
    "    progress = FloatProgress(min=0, max=len(d.keys()))\n",
    "    display(progress)\n",
    "    progress.value = 0\n",
    "    for f in d:\n",
    "        feat = features_gtzan(filename=f, directory=dataset_dir)\n",
    "        if not np.any(np.isnan(feat.data)):\n",
    "            features.append(feat.data)\n",
    "            labels.append(d[f])\n",
    "        progress.value += 1\n",
    "    return features, labels\n",
    "    "
   ]
  },
  {
   "cell_type": "code",
   "execution_count": null,
   "metadata": {
    "collapsed": false,
    "scrolled": true
   },
   "outputs": [],
   "source": [
    "#dataset_dir = \"./datasets/\"\n",
    "#dataset_file = \"labels.txt\"\n",
    "\n",
    "dataset = dataset_characterization(dataset_file, dataset_dir)\n",
    "features, labels = low_level_features(dataset_file, dataset_dir)"
   ]
  },
  {
   "cell_type": "markdown",
   "metadata": {},
   "source": [
    "# Classification\n",
    "\n",
    "The classification process begins by normalizing the feature set so that all features present zero mean and unit variance across all samples. Then, it proceeds to a 10-fold cross validation schema. Each training fold is further split in a 80%/20% ratio into two sets: $t_a$ and $t_b$. These sets are used to optimize the classifier's hyper-parameters in a grid-search that aims to optimize the f1-score in $t_b$. After this, the classifier is tested into the test set for the fold, which allows calculating recall, precision, and f1-score. The function returns the evaluation measures for all folds, averaged over all classes."
   ]
  },
  {
   "cell_type": "code",
   "execution_count": null,
   "metadata": {
    "collapsed": true
   },
   "outputs": [],
   "source": [
    "def label_to_numbers(labels, d):\n",
    "    return [d.keys().index(i) for i in labels]\n",
    "\n",
    "def numbers_to_labels(numbers, d):\n",
    "    return [d.keys[i] for i in numbers]\n"
   ]
  },
  {
   "cell_type": "code",
   "execution_count": null,
   "metadata": {
    "collapsed": true
   },
   "outputs": [],
   "source": [
    "def f1_from_confusion(c):\n",
    "    ret = []\n",
    "    for i in xrange(c.shape[0]):\n",
    "        n_i = np.sum(c[i,:])\n",
    "        est_i = np.sum(c[:,i])\n",
    "        if n_i > 0:\n",
    "            R = c[i,i] / float(n_i)\n",
    "        else:\n",
    "            R = 0.0\n",
    "        if est_i > 0:\n",
    "            P = c[i,i] / float(est_i)\n",
    "        else:\n",
    "            P = 0.0\n",
    "            \n",
    "        if (R+P) > 0:\n",
    "            F = 2*R*P/(R+P)\n",
    "        else:\n",
    "            F = 0.\n",
    "        ret.append([R, P, F])\n",
    "    return ret"
   ]
  },
  {
   "cell_type": "code",
   "execution_count": null,
   "metadata": {
    "collapsed": false
   },
   "outputs": [],
   "source": [
    "import copy \n",
    "\n",
    "class MultipleHMM():\n",
    "    base_model = None\n",
    "    models = {}\n",
    "    \n",
    "    def __init__(self, base_model=None):\n",
    "        self.base_model = base_model\n",
    "    \n",
    "    def fit(self, X, y, train_lengths):\n",
    "        \"\"\"Fits all internal models\"\"\"\n",
    "        labels = set(y)\n",
    "        for l in labels:\n",
    "            print \"Training label:\", l\n",
    "            l_index = [i for i in xrange(len(y)) if y[i] == l]\n",
    "            if X[0].ndim == 1:\n",
    "                this_x = [X[i].reshape(-1, 1) for i in l_index]\n",
    "            else:\n",
    "                this_x = [X[i] for i in l_index]\n",
    "                \n",
    "            this_lengths = [train_lengths[i] for i in l_index]\n",
    "            \n",
    "            my_x = this_x[0]\n",
    "            for i in xrange(1, len(this_x)):\n",
    "                my_x = np.vstack ((my_x, np.array(this_x[i])))\n",
    "            \n",
    "            new_model = copy.deepcopy(self.base_model)\n",
    "            new_model.fit(my_x, this_lengths)\n",
    "            self.models[l] = new_model\n",
    "    \n",
    "    def predict(self, X):\n",
    "        \"\"\"Predicts a label for input X\"\"\"\n",
    "        return_label = None\n",
    "        best_prob = None\n",
    "        for label in self.models.keys():\n",
    "            \n",
    "            #print \"Computing probabilities on shape\", X.shape\n",
    "            if X.ndim == 1:\n",
    "                this_prob = self.models[label].score(X.reshape(-1,1))\n",
    "            else:\n",
    "                this_prob = self.models[label].score(X)\n",
    "            \n",
    "            #print \"Prob in label\", label, \"=\", this_prob\n",
    "            if (best_prob is None) or (this_prob > best_prob):\n",
    "                best_prob = this_prob\n",
    "                return_label = label\n",
    "        return return_label\n"
   ]
  },
  {
   "cell_type": "markdown",
   "metadata": {},
   "source": [
    "# Statistical analysis\n",
    "\n",
    "The results yielded by different classifiers are compared using a t-test (if there are two classifiers) or the ANOVA test (if there are more than two classifiers). This process assumes that each fold of the cross-validation process is an independent measure. P-values lower than 5% indicate a significant difference."
   ]
  },
  {
   "cell_type": "code",
   "execution_count": null,
   "metadata": {
    "collapsed": false
   },
   "outputs": [],
   "source": [
    "from scipy.stats import friedmanchisquare as friedman\n",
    "from scipy.stats import wilcoxon as wilcoxon\n",
    "from scipy.stats import ttest_ind as ttest\n",
    "from scipy.stats import f_oneway as f_oneway\n",
    "from sklearn.preprocessing import normalize\n",
    "from sklearn import preprocessing\n",
    "from sklearn.cross_validation import ShuffleSplit\n",
    "from sklearn.grid_search import GridSearchCV\n",
    "from sklearn.neighbors import KNeighborsClassifier\n",
    "from sklearn.svm import SVC\n",
    "from sklearn.metrics import confusion_matrix\n",
    "from sklearn.metrics import f1_score\n",
    "from sklearn.cross_validation import StratifiedKFold\n",
    "import hmmlearn\n",
    "from hmmlearn.hmm import GaussianHMM, MultinomialHMM\n",
    "\n",
    "import numpy as np\n",
    "import time\n",
    "\n",
    "training_size = 0.8\n",
    "n_folds = 10\n",
    "\n",
    "def model_comparison(features, labels, models):\n",
    "    #norm_features = normalize(features)\n",
    "    features = np.array(features)\n",
    "    skf = StratifiedKFold(labels, n_folds=n_folds)\n",
    "\n",
    "    f1 = np.zeros((n_folds,len(models)))\n",
    "    r = np.zeros((n_folds,len(models)))\n",
    "    p = np.zeros((n_folds,len(models)))\n",
    "    progress = FloatProgress(min=0, max=n_folds*len(models))\n",
    "    display(progress)\n",
    "    for m in xrange(len(models)):\n",
    "        n = 0\n",
    "        for train_index, test_index in skf:\n",
    "            X_train, X_test = [features[i] for i in train_index], [features[i] for i in test_index]\n",
    "            Y_train, Y_test = [labels[i] for i in train_index], [labels[i] for i in test_index]\n",
    "\n",
    "            all_trains = np.array(X_train[0])\n",
    "            train_lengths = [X_train[0].shape[0]]\n",
    "            for i in xrange(1, len(X_train)):\n",
    "                all_trains = np.vstack ((all_trains, np.array(X_train[i])))\n",
    "                train_lengths.append(X_train[i].shape[0])\n",
    "            all_trains = all_trains\n",
    "            #print train_lengths\n",
    "            \n",
    "            scaler = preprocessing.StandardScaler().fit(all_trains)\n",
    "            X_train = [scaler.transform(X_train[i]) for i in xrange(len(X_train))]\n",
    "            X_test = [scaler.transform(X_test[i]) for i in xrange(len(X_test))]\n",
    "            \n",
    "            #cv = ShuffleSplit(len(X_train).shape[0], n_iter=10, test_size=0.2, random_state=0) # 80% train / 20% validation\n",
    "            #classifier = GridSearchCV(estimator=copy.deepcopy(models[m]), cv=cv, param_grid=parameters_to_optimize[m], scoring='f1_weighted')\n",
    "            classifier = models[m]\n",
    "            \n",
    "            classifier.fit(X_train, Y_train, train_lengths)\n",
    "            Y_pred = [classifier.predict(X_test[i]) for i in xrange(len(X_test))]\n",
    "            #print Y_pred\n",
    "            confusion = confusion_matrix(Y_test, Y_pred)\n",
    "            print \"confusion matrix:\\n\", confusion\n",
    "            conf = f1_from_confusion(confusion)\n",
    "            conf_all = np.average(conf, axis=0)\n",
    "            print conf_all\n",
    "\n",
    "            r[n,m] = conf_all[0]\n",
    "            p[n,m] = conf_all[1]\n",
    "            f1[n,m] = conf_all[2]\n",
    "            n += 1\n",
    "            \n",
    "            progress.value += 1\n",
    "    return r, p, f1\n",
    "\n",
    "\n",
    "\n",
    "\n"
   ]
  },
  {
   "cell_type": "code",
   "execution_count": null,
   "metadata": {
    "collapsed": false
   },
   "outputs": [],
   "source": [
    "from scipy.stats import friedmanchisquare as friedman\n",
    "from scipy.stats import wilcoxon as wilcoxon\n",
    "from scipy.stats import ttest_ind as ttest\n",
    "from scipy.stats import f_oneway as f_oneway\n",
    "import warnings\n",
    "warnings.filterwarnings('ignore')\n",
    "\n",
    "models = [MultipleHMM(GaussianHMM(n_components=5, covariance_type='diag', n_iter=50))]\n",
    "\n",
    "dataset = dataset_characterization(dataset_file, dataset_dir)\n",
    "\n",
    "recall, precision, f1_score = model_comparison(features, label_to_numbers(labels, dataset_class_histogram(dataset)), models)\n",
    "#print recall, precision, f1_score\n",
    "#print np.average(f1_score, axis=0), np.average(recall, axis=0), np.average(precision, axis=0)\n",
    "print \"recal:\\n\",recall, \"\\nprecision:\\n\", precision, \"\\nf1_score:\\n\",f1_score \n",
    "print \"media_f1_score:\",np.average(f1_score, axis=0), \"media_recall:\", np.average(recall, axis=0), \"media_precision:\",np.average(precision, axis=0)\n",
    "\n",
    "sigma = np.std(f1_score)\n",
    "print \"sigma\", sigma\n",
    "\n",
    "if len(models) > 2:\n",
    "#    print [f1_score[:,i].T for i in range(len(models))]\n",
    "    print \"Anova: \", f_oneway( *f1_score.T  )[1]\n",
    "      \n",
    "elif len(models) == 2:\n",
    "    print \"T-test:\", ttest( f1_score[:,0].T,  f1_score[:,1].T)[1]\n"
   ]
  },
  {
   "cell_type": "code",
   "execution_count": null,
   "metadata": {
    "collapsed": false
   },
   "outputs": [],
   "source": [
    "g = GaussianHMM(n_iter=10, covariance_type='diag', n_components=3)\n",
    "train = np.array([[1, 2, 1, 2, 1, 2, 1, 2, 3, 4, 3, 2, 1], [2, 3, 1, 4, 1, 7, 1, 2, 3, 10, 11, 2, 1]]).T\n",
    "test = train[0:4,:]\n",
    "test0 = np.array([[4, 3], [7, 6], [5, 4], [5, 4]])\n",
    "lengths = [4, 4, 5]\n",
    "g.fit(train, lengths)\n",
    "print g.score(test)\n",
    "print g.score(test0)\n",
    "print train.ndim\n"
   ]
  },
  {
   "cell_type": "markdown",
   "metadata": {},
   "source": [
    "## Base Gtzan\n",
    "n_components = 4\n",
    "* MFCC / texture : 69,4\n",
    "* MFCC + deltaMFCC + deltadeltaMFCC / texture: 74,9\n",
    "* Todas as features / texture: 75,9\n",
    "* Todas as features sem texture: 76,7\n",
    "\n",
    "n_components = 8\n",
    "* Todas as features / texture: 71,6"
   ]
  },
  {
   "cell_type": "markdown",
   "metadata": {
    "collapsed": true
   },
   "source": [
    "## Base Jamendo-Gtzan\n",
    "\n",
    "* Todas as features sem texture, n_components=4, full_covariance: 39,4% \n",
    "* Todas as features sem texture, n_components=4, diag_covariance: 34,2% \n",
    "* Todas as features sem texture, n_components=9, diag_covariance: 33,5% \n",
    "* Todas as features sem texture, n_components=6, diag_covariance: 33,3% \n",
    "* Todas as features sem texture, n_components=6, full_covariance: 42,7%\n",
    "* Todas as features sem texture, n_components=10, full_covariance: 36,9%"
   ]
  },
  {
   "cell_type": "code",
   "execution_count": null,
   "metadata": {
    "collapsed": false
   },
   "outputs": [],
   "source": [
    "import mir3.modules.features as feat\n",
    "import mir3.modules.tool.wav2spectrogram as spec\n",
    "import mir3.modules.features.centroid as cent\n",
    "import mir3.modules.features.rolloff as roll\n",
    "import mir3.modules.features.flatness as flat\n",
    "import mir3.modules.features.flux as flux\n",
    "import mir3.modules.features.mfcc as mfcc\n",
    "import mir3.modules.features.diff as diff\n",
    "import mir3.modules.features.stats as stats\n",
    "reload(stats)\n",
    "import mir3.modules.features.join as join\n",
    "import mir3.modules.tool.to_texture_window as tex"
   ]
  },
  {
   "cell_type": "code",
   "execution_count": null,
   "metadata": {
    "collapsed": false
   },
   "outputs": [],
   "source": []
  },
  {
   "cell_type": "code",
   "execution_count": null,
   "metadata": {
    "collapsed": true
   },
   "outputs": [],
   "source": []
  }
 ],
 "metadata": {
  "kernelspec": {
   "display_name": "Python 2",
   "language": "python",
   "name": "python2"
  },
  "language_info": {
   "codemirror_mode": {
    "name": "ipython",
    "version": 2
   },
   "file_extension": ".py",
   "mimetype": "text/x-python",
   "name": "python",
   "nbconvert_exporter": "python",
   "pygments_lexer": "ipython2",
   "version": "2.7.6"
  },
  "widgets": {
   "state": {
    "16c3c07631734e01a8001ffef66665ab": {
     "views": [
      {
       "cell_index": 5
      }
     ]
    }
   },
   "version": "1.2.0"
  }
 },
 "nbformat": 4,
 "nbformat_minor": 0
}
