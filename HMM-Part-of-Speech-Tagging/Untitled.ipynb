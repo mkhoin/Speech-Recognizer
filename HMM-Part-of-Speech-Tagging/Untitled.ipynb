{
 "cells": [
  {
   "cell_type": "code",
   "execution_count": 24,
   "metadata": {},
   "outputs": [],
   "source": [
    "import os\n",
    "import requests\n",
    "import urlparse, os"
   ]
  },
  {
   "cell_type": "code",
   "execution_count": 33,
   "metadata": {},
   "outputs": [],
   "source": [
    "def fetchPage(url):\n",
    "    data = requests.get(url)\n",
    "    return data.text.split('\\n')"
   ]
  },
  {
   "cell_type": "code",
   "execution_count": 47,
   "metadata": {},
   "outputs": [],
   "source": [
    "import os\n",
    "import requests\n",
    "import urlparse, os\n",
    "\n",
    "def fetchPage(url):\n",
    "    data = requests.get(url)\n",
    "    return data.text.split('\\n')\n",
    "\n",
    "def parseSentences(data):\n",
    "    tagged_data = []\n",
    "    raw_sentence = []\n",
    "    flag_new_sentence = True\n",
    "    word_tags = []\n",
    "    words = []\n",
    "    for line in data:\n",
    "        line = line.strip()\n",
    "        if line.startswith('#'):\n",
    "            flag_new_sentence = False\n",
    "            continue\n",
    "        if line == '':\n",
    "            flag_new_sentence = True\n",
    "            tagged_data.append(' '.join(word_tags))\n",
    "            raw_sentence.append(' '.join(words))\n",
    "            words = []\n",
    "            word_tags = []\n",
    "            continue\n",
    "        res = line.split('\\t')\n",
    "        \n",
    "        words.append(res[1])\n",
    "        word_tags.append(res[1] + '/' + res[4])\n",
    "    return tagged_data, raw_sentence\n",
    "\n",
    "def writeToFile(url, tagged_data, raw_sentence):\n",
    "    a = urlparse.urlparse(url)\n",
    "    filename = os.path.basename(a.path)\n",
    "    \n",
    "    with open('raw_'+filename, 'w') as output_file:\n",
    "        output_file.write('\\n'.join(raw_sentence).encode('utf_8'))\n",
    "        \n",
    "    with open(filename, 'w') as output_file:\n",
    "        output_file.write('\\n'.join(tagged_data).encode('utf_8'))\n",
    "        \n",
    "url = 'https://raw.githubusercontent.com/UniversalDependencies/UD_Bulgarian-BTB/master/bg-ud-test.conllu'\n",
    "data = fetchPage(url)\n",
    "tagged_data, raw_sentence = parseSentences(data)\n",
    "writeToFile(url, tagged_data, raw_sentence)\n"
   ]
  },
  {
   "cell_type": "code",
   "execution_count": 35,
   "metadata": {},
   "outputs": [],
   "source": [
    "def writeToFile(url, tagged_data, raw_sentence):\n",
    "    a = urlparse.urlparse(url)\n",
    "    filename = os.path.basename(a.path)\n",
    "    \n",
    "    with open('raw_'+filename, 'w') as output_file:\n",
    "        output_file.write('\\n'.join(raw_sentence).encode('utf_8'))\n",
    "        \n",
    "    with open(filename, 'w') as output_file:\n",
    "        output_file.write('\\n'.join(tagged_data).encode('utf_8'))"
   ]
  },
  {
   "cell_type": "code",
   "execution_count": 41,
   "metadata": {},
   "outputs": [],
   "source": [
    "url = 'https://raw.githubusercontent.com/UniversalDependencies/UD_Korean-GSD/master/ko-ud-test.conllu'\n",
    "data = fetchPage(url)\n",
    "tagged_data, raw_sentence = parseSentences(data)\n",
    "writeToFile(url, tagged_data, raw_sentence)"
   ]
  },
  {
   "cell_type": "code",
   "execution_count": null,
   "metadata": {},
   "outputs": [],
   "source": []
  }
 ],
 "metadata": {
  "kernelspec": {
   "display_name": "Python 2",
   "language": "python",
   "name": "python2"
  },
  "language_info": {
   "codemirror_mode": {
    "name": "ipython",
    "version": 2
   },
   "file_extension": ".py",
   "mimetype": "text/x-python",
   "name": "python",
   "nbconvert_exporter": "python",
   "pygments_lexer": "ipython2",
   "version": "2.7.14"
  }
 },
 "nbformat": 4,
 "nbformat_minor": 2
}
